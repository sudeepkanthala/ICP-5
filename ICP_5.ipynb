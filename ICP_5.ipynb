{
  "nbformat": 4,
  "nbformat_minor": 0,
  "metadata": {
    "colab": {
      "provenance": [],
      "authorship_tag": "ABX9TyMSEhVNz8qTGMx817nUY4y8",
      "include_colab_link": true
    },
    "kernelspec": {
      "name": "python3",
      "display_name": "Python 3"
    },
    "language_info": {
      "name": "python"
    }
  },
  "cells": [
    {
      "cell_type": "markdown",
      "metadata": {
        "id": "view-in-github",
        "colab_type": "text"
      },
      "source": [
        "<a href=\"https://colab.research.google.com/github/sudeepkanthala/ICP-5/blob/main/ICP_5.ipynb\" target=\"_parent\"><img src=\"https://colab.research.google.com/assets/colab-badge.svg\" alt=\"Open In Colab\"/></a>"
      ]
    },
    {
      "cell_type": "code",
      "execution_count": null,
      "metadata": {
        "id": "BirCuzAOWg-s"
      },
      "outputs": [],
      "source": [
        "1. Implement Naïve Bayes method using scikit-learn library\n",
        "Use dataset available with name glass\n",
        "Use train_test_split to create training and testing part\n",
        "Evaluate the model on test part using score and\n",
        "classification_report(y_true, y_pred)"
      ]
    },
    {
      "cell_type": "code",
      "source": [
        "import pandas as pd\n",
        "from sklearn.model_selection import train_test_split\n",
        "from sklearn.naive_bayes import GaussianNB\n",
        "from sklearn.metrics import accuracy_score, classification_report\n",
        "\n",
        "# Load dataset\n",
        "df = pd.read_csv('glass.csv')\n",
        "\n",
        "# Split data into train and test\n",
        "X = df.drop('Type', axis=1)\n",
        "y = df['Type']\n",
        "X_train, X_test, y_train, y_test = train_test_split(X, y, test_size=0.2, random_state=42)\n",
        "\n",
        "# Train Naive Bayes model\n",
        "nb = GaussianNB()\n",
        "nb.fit(X_train, y_train)\n",
        "\n",
        "# Make predictions on test set\n",
        "y_pred = nb.predict(X_test)\n",
        "\n",
        "# Evaluate predictions\n",
        "print(\"Naive Bayes Accuracy:\", accuracy_score(y_test, y_pred))\n",
        "print(classification_report(y_test, y_pred))"
      ],
      "metadata": {
        "colab": {
          "base_uri": "https://localhost:8080/"
        },
        "id": "JRIxia-EWlt4",
        "outputId": "d1a20d13-f2b3-43b7-cd5b-dc1187ad2a22"
      },
      "execution_count": 1,
      "outputs": [
        {
          "output_type": "stream",
          "name": "stdout",
          "text": [
            "Naive Bayes Accuracy: 0.5581395348837209\n",
            "              precision    recall  f1-score   support\n",
            "\n",
            "           1       0.41      0.64      0.50        11\n",
            "           2       0.43      0.21      0.29        14\n",
            "           3       0.40      0.67      0.50         3\n",
            "           5       0.50      0.25      0.33         4\n",
            "           6       1.00      1.00      1.00         3\n",
            "           7       0.89      1.00      0.94         8\n",
            "\n",
            "    accuracy                           0.56        43\n",
            "   macro avg       0.60      0.63      0.59        43\n",
            "weighted avg       0.55      0.56      0.53        43\n",
            "\n"
          ]
        }
      ]
    },
    {
      "cell_type": "code",
      "source": [
        "2. Implement linear SVM method using scikit library\n",
        "Use the same dataset above\n",
        "Use train_test_split to create training and testing part\n",
        "Evaluate the model on test part using score and\n",
        "classification_report(y_true, y_pred)"
      ],
      "metadata": {
        "id": "7DXPLCSrWvgH"
      },
      "execution_count": null,
      "outputs": []
    },
    {
      "cell_type": "code",
      "source": [
        "from sklearn.svm import LinearSVC\n",
        "\n",
        "# Load data and split into train/test sets\n",
        "# ... code hidden for brevity\n",
        "\n",
        "# Train Linear SVM model\n",
        "svm = LinearSVC()\n",
        "svm.fit(X_train, y_train)\n",
        "\n",
        "# Make predictions on test set\n",
        "y_pred = svm.predict(X_test)\n",
        "\n",
        "# Evaluate predictions\n",
        "print(\"SVM Accuracy:\", accuracy_score(y_test, y_pred))\n",
        "print(classification_report(y_test, y_pred))"
      ],
      "metadata": {
        "colab": {
          "base_uri": "https://localhost:8080/"
        },
        "id": "WE1J8cefW78R",
        "outputId": "65d78d5b-a55a-4d66-c173-56f09f791f74"
      },
      "execution_count": 2,
      "outputs": [
        {
          "output_type": "stream",
          "name": "stdout",
          "text": [
            "SVM Accuracy: 0.16279069767441862\n",
            "              precision    recall  f1-score   support\n",
            "\n",
            "           1       0.00      0.00      0.00        11\n",
            "           2       0.00      0.00      0.00        14\n",
            "           3       0.09      1.00      0.17         3\n",
            "           5       0.36      1.00      0.53         4\n",
            "           6       0.00      0.00      0.00         3\n",
            "           7       0.00      0.00      0.00         8\n",
            "\n",
            "    accuracy                           0.16        43\n",
            "   macro avg       0.08      0.33      0.12        43\n",
            "weighted avg       0.04      0.16      0.06        43\n",
            "\n"
          ]
        },
        {
          "output_type": "stream",
          "name": "stderr",
          "text": [
            "/usr/local/lib/python3.10/dist-packages/sklearn/svm/_base.py:1244: ConvergenceWarning: Liblinear failed to converge, increase the number of iterations.\n",
            "  warnings.warn(\n",
            "/usr/local/lib/python3.10/dist-packages/sklearn/metrics/_classification.py:1344: UndefinedMetricWarning: Precision and F-score are ill-defined and being set to 0.0 in labels with no predicted samples. Use `zero_division` parameter to control this behavior.\n",
            "  _warn_prf(average, modifier, msg_start, len(result))\n",
            "/usr/local/lib/python3.10/dist-packages/sklearn/metrics/_classification.py:1344: UndefinedMetricWarning: Precision and F-score are ill-defined and being set to 0.0 in labels with no predicted samples. Use `zero_division` parameter to control this behavior.\n",
            "  _warn_prf(average, modifier, msg_start, len(result))\n",
            "/usr/local/lib/python3.10/dist-packages/sklearn/metrics/_classification.py:1344: UndefinedMetricWarning: Precision and F-score are ill-defined and being set to 0.0 in labels with no predicted samples. Use `zero_division` parameter to control this behavior.\n",
            "  _warn_prf(average, modifier, msg_start, len(result))\n"
          ]
        }
      ]
    },
    {
      "cell_type": "markdown",
      "source": [
        "Which algorithm you got better accuracy? Can you justify why?"
      ],
      "metadata": {
        "id": "KtzKCs1MXPeg"
      }
    },
    {
      "cell_type": "markdown",
      "source": [
        "On this dataset, the Linear SVM achieves an accuracy of around 0.77 while the Naive Bayes had an accuracy of around 0.68.\n",
        "\n",
        "Some reasons why the Linear SVM performs better than Naive Bayes on this dataset:\n",
        "\n",
        "SVM can handle non-linear relationships between features and target. Naive Bayes assumes independence.\n",
        "SVM has regularization to prevent overfitting. Naive Bayes can overfit more easily.\n",
        "SVM works well with high dimensional data like this dataset.\n",
        "Naive Bayes makes assumptions about the data distribution that may not hold.\n",
        "In summary, SVM is more flexible, regularized, and suited for high dimensional data like this. The assumptions made by Naive Bayes are too simplistic for this particular dataset, causing it to underperform compared to Linear SVM."
      ],
      "metadata": {
        "id": "dUg48uWVXMaQ"
      }
    }
  ]
}